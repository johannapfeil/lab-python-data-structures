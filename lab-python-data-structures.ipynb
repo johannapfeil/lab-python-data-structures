{
 "cells": [
  {
   "cell_type": "markdown",
   "metadata": {
    "tags": []
   },
   "source": [
    "# Lab | Data Structures "
   ]
  },
  {
   "cell_type": "markdown",
   "metadata": {},
   "source": [
    "## Exercise: Managing Customer Orders\n",
    "\n",
    "As part of a business venture, you are starting an online store that sells various products. To ensure smooth operations, you need to develop a program that manages customer orders and inventory.\n",
    "\n",
    "Follow the steps below to complete the exercise:\n",
    "\n",
    "1. Define a list called `products` that contains the following items: \"t-shirt\", \"mug\", \"hat\", \"book\", \"keychain\".\n",
    "\n",
    "2. Create an empty dictionary called `inventory`.\n",
    "\n",
    "3. Ask the user to input the quantity of each product available in the inventory. Use the product names from the `products` list as keys in the `inventory` dictionary and assign the respective quantities as values.\n",
    "\n",
    "4. Create an empty set called `customer_orders`.\n",
    "\n",
    "5. Ask the user to input the name of three products that a customer wants to order (from those in the products list, meaning three products out of \"t-shirt\", \"mug\", \"hat\", \"book\" or \"keychain\". Add each product name to the `customer_orders` set.\n",
    "\n",
    "6. Print the products in the `customer_orders` set.\n",
    "\n",
    "7. Calculate the following order statistics:\n",
    "   - Total Products Ordered: The total number of products in the `customer_orders` set.\n",
    "   - Percentage of Products Ordered: The percentage of products ordered compared to the total available products.\n",
    "   \n",
    "   Store these statistics in a tuple called `order_status`.\n",
    "\n",
    "8. Print the order statistics using the following format:\n",
    "   ```\n",
    "   Order Statistics:\n",
    "   Total Products Ordered: <total_products_ordered>\n",
    "   Percentage of Products Ordered: <percentage_ordered>% \n",
    "   ```\n",
    "\n",
    "9. Update the inventory by subtracting 1 from the quantity of each product. Modify the `inventory` dictionary accordingly.\n",
    "\n",
    "10. Print the updated inventory, displaying the quantity of each product on separate lines.\n",
    "\n",
    "Solve the exercise by implementing the steps using the Python concepts of lists, dictionaries, sets, and basic input/output operations. "
   ]
  },
  {
   "cell_type": "markdown",
   "metadata": {},
   "source": [
    "# Inventory"
   ]
  },
  {
   "cell_type": "code",
   "execution_count": 36,
   "metadata": {},
   "outputs": [],
   "source": [
    "products = ['t-shirt', 'mug', 'hat', 'book', 'keychain']\n",
    "inventory = {}\n",
    "customer_orders = set()"
   ]
  },
  {
   "cell_type": "markdown",
   "metadata": {},
   "source": [
    "## Quantity of each product"
   ]
  },
  {
   "cell_type": "code",
   "execution_count": 37,
   "metadata": {},
   "outputs": [],
   "source": [
    "# Ask the user to specify the quantity of each product\n",
    "def ask_inventory():\n",
    "    for product in products:\n",
    "    \n",
    "        while True:\n",
    "            quantity = input(f'How many items of {product} are available?: ')\n",
    "        \n",
    "            # Check whether the input is valid\n",
    "            if quantity.isdigit() == False: print('Please enter a valid number.')\n",
    "        \n",
    "            else:\n",
    "                # Store the product and its quantity in the inventory\n",
    "                inventory[product] = int(quantity)\n",
    "                break"
   ]
  },
  {
   "cell_type": "code",
   "execution_count": 38,
   "metadata": {},
   "outputs": [
    {
     "name": "stdout",
     "output_type": "stream",
     "text": [
      "How many items of t-shirt are available?: 56\n",
      "How many items of mug are available?: 2\n",
      "How many items of hat are available?: 31\n",
      "How many items of book are available?: 7\n",
      "How many items of keychain are available?: 198\n"
     ]
    }
   ],
   "source": [
    "ask_inventory()"
   ]
  },
  {
   "cell_type": "markdown",
   "metadata": {},
   "source": [
    "## Customer selects 3 products"
   ]
  },
  {
   "cell_type": "code",
   "execution_count": 39,
   "metadata": {},
   "outputs": [],
   "source": [
    "# Ask the user to specify three products\n",
    "def three_products():\n",
    "    for i in range(3):\n",
    "        while True:\n",
    "            product = input(f'Please enter product {i+1}: ').strip()\n",
    "         \n",
    "            # Check whether the input is valid\n",
    "            if not product in products: print('There is a typo. Try again.')  \n",
    "        \n",
    "            else:\n",
    "                customer_orders.add(product)\n",
    "                break"
   ]
  },
  {
   "cell_type": "code",
   "execution_count": 40,
   "metadata": {},
   "outputs": [
    {
     "name": "stdout",
     "output_type": "stream",
     "text": [
      "Please enter product 1: keychain\n",
      "Please enter product 2: hat\n",
      "Please enter product 3: t-shirt\n",
      "{'keychain', 'hat', 't-shirt'}\n"
     ]
    }
   ],
   "source": [
    "three_products()\n",
    "print(customer_orders)"
   ]
  },
  {
   "cell_type": "markdown",
   "metadata": {},
   "source": [
    "# Statistics"
   ]
  },
  {
   "cell_type": "markdown",
   "metadata": {},
   "source": [
    "## Total number of products"
   ]
  },
  {
   "cell_type": "code",
   "execution_count": 41,
   "metadata": {},
   "outputs": [
    {
     "name": "stdout",
     "output_type": "stream",
     "text": [
      "The total number of products is 294.\n"
     ]
    }
   ],
   "source": [
    "total_number_products = sum(inventory.values())\n",
    "print(f'The total number of products is {total_number_products}.')"
   ]
  },
  {
   "cell_type": "markdown",
   "metadata": {},
   "source": [
    "## Percentage customer demand"
   ]
  },
  {
   "cell_type": "code",
   "execution_count": 42,
   "metadata": {},
   "outputs": [],
   "source": [
    "def find_number_products():\n",
    "    total = 0\n",
    "    for product, number_product in inventory.items():\n",
    "            if product in customer_orders:\n",
    "                total += number_product\n",
    "    return total"
   ]
  },
  {
   "cell_type": "code",
   "execution_count": 43,
   "metadata": {},
   "outputs": [
    {
     "name": "stdout",
     "output_type": "stream",
     "text": [
      "285\n",
      "97% of available products were purchased.\n"
     ]
    }
   ],
   "source": [
    "number_products = find_number_products()\n",
    "print(number_products)\n",
    "customer_demand = number_products / total_number_products * 100\n",
    "print(f'{customer_demand:.0f}% of available products were purchased.')"
   ]
  },
  {
   "cell_type": "code",
   "execution_count": 47,
   "metadata": {},
   "outputs": [],
   "source": [
    "order_status = (total_number_products, customer_demand)"
   ]
  },
  {
   "cell_type": "code",
   "execution_count": 49,
   "metadata": {},
   "outputs": [
    {
     "name": "stdout",
     "output_type": "stream",
     "text": [
      "Order Statistics:\n",
      "Total products ordered: 294\n",
      "Percentage of products ordered: 97%\n"
     ]
    }
   ],
   "source": [
    "print(f'''Order Statistics:\n",
    "Total products ordered: {order_status[0]}\n",
    "Percentage of products ordered: {order_status[1]:.0f}%''')"
   ]
  },
  {
   "cell_type": "markdown",
   "metadata": {},
   "source": [
    "# Inventory update"
   ]
  },
  {
   "cell_type": "code",
   "execution_count": 46,
   "metadata": {},
   "outputs": [
    {
     "name": "stdout",
     "output_type": "stream",
     "text": [
      "t-shirt: 55\n",
      "mug: 1\n",
      "hat: 30\n",
      "book: 6\n",
      "keychain: 197\n"
     ]
    }
   ],
   "source": [
    "for product in inventory:\n",
    "    inventory[product] -= 1\n",
    "for product, quantity in inventory.items():\n",
    "    print(f'{product}: {quantity}')"
   ]
  }
 ],
 "metadata": {
  "kernelspec": {
   "display_name": "Python 3 (ipykernel)",
   "language": "python",
   "name": "python3"
  },
  "language_info": {
   "codemirror_mode": {
    "name": "ipython",
    "version": 3
   },
   "file_extension": ".py",
   "mimetype": "text/x-python",
   "name": "python",
   "nbconvert_exporter": "python",
   "pygments_lexer": "ipython3",
   "version": "3.9.13"
  }
 },
 "nbformat": 4,
 "nbformat_minor": 4
}
